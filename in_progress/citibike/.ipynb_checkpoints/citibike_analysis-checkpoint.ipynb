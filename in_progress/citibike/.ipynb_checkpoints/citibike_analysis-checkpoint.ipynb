{
 "cells": [
  {
   "cell_type": "markdown",
   "id": "4d434d30",
   "metadata": {},
   "source": [
    "## Pedalling through the weather 🚴‍♂️\n",
    "\n",
    "I've lived in New York City for the last year or so, and have citibiked my way around for most of that time. With enough frequency that it is annoying, I'll find my local stations devoid of bikes to unlock, or attempt to return my trusty steed to a station already bursting at the seams. \n",
    "\n",
    "I am interested in exploring how bike usage tracks with the weather in the city, and if I might be better able to predict when there may be limited bikes/parking spots at my most frequented stations.\n",
    "\n",
    "Citibike provides all their historical ride data, for free, [here](https://citibikenyc.com/system-data) (way to go citibike!). To start this analysis let's load and explore some of these data. We will analyse all the rides that took place in 2022."
   ]
  },
  {
   "cell_type": "code",
   "execution_count": 22,
   "id": "59f0e24d",
   "metadata": {},
   "outputs": [],
   "source": [
    "import pandas as pd\n",
    "\n",
    "dfs = []\n",
    "for i, val in enumerate(range(201, 213)):\n",
    "    df = pd.read_csv(f'data/JC-202{val}-citibike-tripdata.csv')\n",
    "    dfs.append(df)\n",
    "df_rides = pd.concat(dfs)\n",
    "\n",
    "df_rides['started_at'] = pd.to_datetime(df_rides['started_at'])\n",
    "df_rides['ended_at'] = pd.to_datetime(df_rides['ended_at'])"
   ]
  },
  {
   "cell_type": "code",
   "execution_count": 23,
   "id": "23a00c15",
   "metadata": {},
   "outputs": [
    {
     "data": {
      "text/html": [
       "<div>\n",
       "<style scoped>\n",
       "    .dataframe tbody tr th:only-of-type {\n",
       "        vertical-align: middle;\n",
       "    }\n",
       "\n",
       "    .dataframe tbody tr th {\n",
       "        vertical-align: top;\n",
       "    }\n",
       "\n",
       "    .dataframe thead th {\n",
       "        text-align: right;\n",
       "    }\n",
       "</style>\n",
       "<table border=\"1\" class=\"dataframe\">\n",
       "  <thead>\n",
       "    <tr style=\"text-align: right;\">\n",
       "      <th></th>\n",
       "      <th>ride_id</th>\n",
       "      <th>rideable_type</th>\n",
       "      <th>started_at</th>\n",
       "      <th>ended_at</th>\n",
       "      <th>start_station_name</th>\n",
       "      <th>start_station_id</th>\n",
       "      <th>end_station_name</th>\n",
       "      <th>end_station_id</th>\n",
       "      <th>start_lat</th>\n",
       "      <th>start_lng</th>\n",
       "      <th>end_lat</th>\n",
       "      <th>end_lng</th>\n",
       "      <th>member_casual</th>\n",
       "    </tr>\n",
       "  </thead>\n",
       "  <tbody>\n",
       "    <tr>\n",
       "      <th>0</th>\n",
       "      <td>CA5837152804D4B5</td>\n",
       "      <td>electric_bike</td>\n",
       "      <td>2022-01-26 18:50:39</td>\n",
       "      <td>2022-01-26 18:51:53</td>\n",
       "      <td>12 St &amp; Sinatra Dr N</td>\n",
       "      <td>HB201</td>\n",
       "      <td>12 St &amp; Sinatra Dr N</td>\n",
       "      <td>HB201</td>\n",
       "      <td>40.750604</td>\n",
       "      <td>-74.024020</td>\n",
       "      <td>40.750604</td>\n",
       "      <td>-74.024020</td>\n",
       "      <td>member</td>\n",
       "    </tr>\n",
       "    <tr>\n",
       "      <th>1</th>\n",
       "      <td>BA06A5E45B6601D2</td>\n",
       "      <td>classic_bike</td>\n",
       "      <td>2022-01-28 13:14:07</td>\n",
       "      <td>2022-01-28 13:20:23</td>\n",
       "      <td>Essex Light Rail</td>\n",
       "      <td>JC038</td>\n",
       "      <td>Essex Light Rail</td>\n",
       "      <td>JC038</td>\n",
       "      <td>40.712774</td>\n",
       "      <td>-74.036486</td>\n",
       "      <td>40.712774</td>\n",
       "      <td>-74.036486</td>\n",
       "      <td>member</td>\n",
       "    </tr>\n",
       "    <tr>\n",
       "      <th>2</th>\n",
       "      <td>7B6827D7B9508D93</td>\n",
       "      <td>classic_bike</td>\n",
       "      <td>2022-01-10 19:55:13</td>\n",
       "      <td>2022-01-10 20:00:37</td>\n",
       "      <td>Essex Light Rail</td>\n",
       "      <td>JC038</td>\n",
       "      <td>Essex Light Rail</td>\n",
       "      <td>JC038</td>\n",
       "      <td>40.712774</td>\n",
       "      <td>-74.036486</td>\n",
       "      <td>40.712774</td>\n",
       "      <td>-74.036486</td>\n",
       "      <td>member</td>\n",
       "    </tr>\n",
       "    <tr>\n",
       "      <th>3</th>\n",
       "      <td>6E5864EA6FCEC90D</td>\n",
       "      <td>electric_bike</td>\n",
       "      <td>2022-01-26 07:54:57</td>\n",
       "      <td>2022-01-26 07:55:22</td>\n",
       "      <td>12 St &amp; Sinatra Dr N</td>\n",
       "      <td>HB201</td>\n",
       "      <td>12 St &amp; Sinatra Dr N</td>\n",
       "      <td>HB201</td>\n",
       "      <td>40.750604</td>\n",
       "      <td>-74.024020</td>\n",
       "      <td>40.750604</td>\n",
       "      <td>-74.024020</td>\n",
       "      <td>member</td>\n",
       "    </tr>\n",
       "    <tr>\n",
       "      <th>4</th>\n",
       "      <td>E24954255BBDE32D</td>\n",
       "      <td>electric_bike</td>\n",
       "      <td>2022-01-13 18:44:46</td>\n",
       "      <td>2022-01-13 18:45:43</td>\n",
       "      <td>12 St &amp; Sinatra Dr N</td>\n",
       "      <td>HB201</td>\n",
       "      <td>12 St &amp; Sinatra Dr N</td>\n",
       "      <td>HB201</td>\n",
       "      <td>40.750604</td>\n",
       "      <td>-74.024020</td>\n",
       "      <td>40.750604</td>\n",
       "      <td>-74.024020</td>\n",
       "      <td>member</td>\n",
       "    </tr>\n",
       "  </tbody>\n",
       "</table>\n",
       "</div>"
      ],
      "text/plain": [
       "            ride_id  rideable_type          started_at            ended_at  \\\n",
       "0  CA5837152804D4B5  electric_bike 2022-01-26 18:50:39 2022-01-26 18:51:53   \n",
       "1  BA06A5E45B6601D2   classic_bike 2022-01-28 13:14:07 2022-01-28 13:20:23   \n",
       "2  7B6827D7B9508D93   classic_bike 2022-01-10 19:55:13 2022-01-10 20:00:37   \n",
       "3  6E5864EA6FCEC90D  electric_bike 2022-01-26 07:54:57 2022-01-26 07:55:22   \n",
       "4  E24954255BBDE32D  electric_bike 2022-01-13 18:44:46 2022-01-13 18:45:43   \n",
       "\n",
       "     start_station_name start_station_id      end_station_name end_station_id  \\\n",
       "0  12 St & Sinatra Dr N            HB201  12 St & Sinatra Dr N          HB201   \n",
       "1      Essex Light Rail            JC038      Essex Light Rail          JC038   \n",
       "2      Essex Light Rail            JC038      Essex Light Rail          JC038   \n",
       "3  12 St & Sinatra Dr N            HB201  12 St & Sinatra Dr N          HB201   \n",
       "4  12 St & Sinatra Dr N            HB201  12 St & Sinatra Dr N          HB201   \n",
       "\n",
       "   start_lat  start_lng    end_lat    end_lng member_casual  \n",
       "0  40.750604 -74.024020  40.750604 -74.024020        member  \n",
       "1  40.712774 -74.036486  40.712774 -74.036486        member  \n",
       "2  40.712774 -74.036486  40.712774 -74.036486        member  \n",
       "3  40.750604 -74.024020  40.750604 -74.024020        member  \n",
       "4  40.750604 -74.024020  40.750604 -74.024020        member  "
      ]
     },
     "execution_count": 23,
     "metadata": {},
     "output_type": "execute_result"
    }
   ],
   "source": [
    "df_rides.head()"
   ]
  },
  {
   "cell_type": "markdown",
   "id": "54859fa5",
   "metadata": {},
   "source": [
    "🚨 This is a little low on ride count.. should be millions?"
   ]
  },
  {
   "cell_type": "code",
   "execution_count": 24,
   "id": "954ce021",
   "metadata": {},
   "outputs": [
    {
     "data": {
      "text/plain": [
       "(895485, 13)"
      ]
     },
     "execution_count": 24,
     "metadata": {},
     "output_type": "execute_result"
    }
   ],
   "source": [
    "df_rides.shape"
   ]
  },
  {
   "cell_type": "code",
   "execution_count": 25,
   "id": "68d5530b",
   "metadata": {
    "scrolled": true
   },
   "outputs": [
    {
     "data": {
      "text/plain": [
       "ride_id                  0\n",
       "rideable_type            0\n",
       "started_at               0\n",
       "ended_at                 0\n",
       "start_station_name      10\n",
       "start_station_id        10\n",
       "end_station_name      3204\n",
       "end_station_id        3204\n",
       "start_lat                0\n",
       "start_lng                0\n",
       "end_lat               1970\n",
       "end_lng               1970\n",
       "member_casual            0\n",
       "dtype: int64"
      ]
     },
     "execution_count": 25,
     "metadata": {},
     "output_type": "execute_result"
    }
   ],
   "source": [
    "df_rides.isna().sum()"
   ]
  },
  {
   "cell_type": "markdown",
   "id": "9f81e755",
   "metadata": {},
   "source": [
    "Let's drop NaN values (most likely bikes that broke or weren't returned to stations)."
   ]
  },
  {
   "cell_type": "code",
   "execution_count": 26,
   "id": "7443d594",
   "metadata": {},
   "outputs": [],
   "source": [
    "df_rides.dropna(inplace=True)"
   ]
  },
  {
   "cell_type": "markdown",
   "id": "999edf82",
   "metadata": {},
   "source": [
    "Now let's look for any easy to spot trends across all bike usage. First we can extract a few features of intrest. These include the month, day of the week, and hour of the day that the rides started at."
   ]
  },
  {
   "cell_type": "code",
   "execution_count": 35,
   "id": "4a99359e",
   "metadata": {},
   "outputs": [],
   "source": [
    "df_rides['month'] = df_rides['started_at'].dt.month\n",
    "df_rides['weekday'] = df_rides['started_at'].dt.day_of_week\n",
    "df_rides['hour'] = df_rides['started_at'].dt.hour\n",
    "\n",
    "\n",
    "rides_per_month = df_rides.groupby('month').size().reset_index(name='num_rides')\n",
    "rides_per_weekday = df_rides.groupby('weekday').size().reset_index(name='num_rides')\n",
    "rides_per_hour = df_rides.groupby('hour').size().reset_index(name='num_rides')"
   ]
  },
  {
   "cell_type": "code",
   "execution_count": 38,
   "id": "6c196dc4",
   "metadata": {},
   "outputs": [
    {
     "data": {
      "image/png": "[encoded data removed]",
      "text/plain": [
       "<Figure size 720x432 with 1 Axes>"
      ]
     },
     "metadata": {
      "needs_background": "light"
     },
     "output_type": "display_data"
    },
    {
     "data": {
      "image/png": "[encoded data removed]",
      "text/plain": [
       "<Figure size 720x432 with 1 Axes>"
      ]
     },
     "metadata": {
      "needs_background": "light"
     },
     "output_type": "display_data"
    },
    {
     "data": {
      "image/png": "[encoded data removed]",
      "text/plain": [
       "<Figure size 720x432 with 1 Axes>"
      ]
     },
     "metadata": {
      "needs_background": "light"
     },
     "output_type": "display_data"
    }
   ],
   "source": [
    "import matplotlib.pyplot as plt\n",
    "import seaborn as sns\n",
    "\n",
    "def bar_plot(data: pd.DataFrame, unit:str):\n",
    "    plt.figure(figsize=(10, 6))\n",
    "    sns.barplot(x=unit, y='num_rides', data=data, palette='viridis')\n",
    "    plt.title(f'Citibike Trips per {unit}')\n",
    "    plt.xlabel(f'{unit}')\n",
    "    plt.ylabel('num_rides')\n",
    "    \n",
    "bar_plot(rides_per_month, 'month')\n",
    "bar_plot(rides_per_weekday, 'weekday')\n",
    "bar_plot(rides_per_hour, 'hour')"
   ]
  },
  {
   "cell_type": "markdown",
   "id": "ba39311c",
   "metadata": {},
   "source": [
    "Interesting there isn't much trend for rides per weekday (note 0 = monday, 6 = sunday).\n",
    "\n",
    "Interesting there is definitely a trend to cycle around 5 / 6pm\n",
    "\n",
    "Interesting that late summer/early fall sees the most citibike usage!\n",
    "\n",
    "\n",
    "- Next things:\n",
    "    - Does citibike riding track with daylight hours?\n",
    "    - Does it track with temperature?"
   ]
  },
  {
   "cell_type": "code",
   "execution_count": null,
   "id": "56706fb3",
   "metadata": {},
   "outputs": [],
   "source": []
  }
 ],
 "metadata": {
  "kernelspec": {
   "display_name": "Python 3",
   "language": "python",
   "name": "python3"
  },
  "language_info": {
   "codemirror_mode": {
    "name": "ipython",
    "version": 3
   },
   "file_extension": ".py",
   "mimetype": "text/x-python",
   "name": "python",
   "nbconvert_exporter": "python",
   "pygments_lexer": "ipython3",
   "version": "3.8.8"
  }
 },
 "nbformat": 4,
 "nbformat_minor": 5
}
